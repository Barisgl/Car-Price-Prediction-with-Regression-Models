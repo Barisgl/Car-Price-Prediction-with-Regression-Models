{
  "nbformat": 4,
  "nbformat_minor": 0,
  "metadata": {
    "colab": {
      "provenance": []
    },
    "kernelspec": {
      "name": "python3",
      "display_name": "Python 3"
    },
    "language_info": {
      "name": "python"
    }
  },
  "cells": [
    {
      "cell_type": "markdown",
      "source": [
        "# WELCOME\n"
      ],
      "metadata": {
        "id": "ur3s7lt2wWcn"
      }
    },
    {
      "cell_type": "code",
      "source": [
        "import pandas as pd      \n",
        "import numpy as np \n",
        "import matplotlib.pyplot as plt\n",
        "import seaborn as sns\n",
        "from sklearn.preprocessing import StandardScaler, MinMaxScaler, RobustScaler\n",
        "from sklearn.metrics import mean_squared_error, mean_absolute_error, r2_score\n",
        "from sklearn.model_selection import train_test_split\n",
        "from scipy.stats import skew\n",
        "from sklearn.model_selection import cross_validate, cross_val_score\n",
        "import warnings\n",
        "warnings.filterwarnings('ignore')\n",
        "plt.rcParams[\"figure.figsize\"] = (10,6)\n",
        "pd.set_option('display.max_columns', 500) \n",
        "pd.set_option('display.max_rows', 500)\n",
        "from sklearn.linear_model import LinearRegression\n",
        "pd.options.display.float_format = '{:.3f}'.format\n",
        "from yellowbrick.regressor import PredictionError\n",
        "from yellowbrick.features import RadViz\n",
        "from yellowbrick.regressor import ResidualsPlot\n",
        "from sklearn.model_selection import GridSearchCV\n",
        "from sklearn.ensemble import ExtraTreesRegressor\n",
        "from sklearn.model_selection import train_test_split\n",
        "from sklearn.metrics import accuracy_score as acc\n",
        "from sklearn.ensemble import RandomForestRegressor\n",
        "from yellowbrick.model_selection import FeatureImportances\n",
        "from yellowbrick.features import RadViz\n",
        "import pickle\n",
        "import pandas as pd      \n",
        "import numpy as np \n",
        "import matplotlib.pyplot as plt\n",
        "import seaborn as sns\n",
        "from sklearn.preprocessing import StandardScaler, MinMaxScaler, RobustScaler\n",
        "from sklearn.metrics import mean_squared_error, mean_absolute_error, r2_score\n",
        "from sklearn.model_selection import train_test_split\n",
        "\n",
        "from scipy.stats import skew\n",
        "\n",
        "from sklearn.model_selection import cross_validate, cross_val_score\n",
        "import warnings\n",
        "warnings.filterwarnings('ignore')\n",
        "plt.rcParams[\"figure.figsize\"] = (10,6)\n",
        "pd.set_option('display.max_columns', 500) \n",
        "pd.set_option('display.max_rows', 500)\n",
        "from sklearn.linear_model import LinearRegression\n",
        "pd.options.display.float_format = '{:.3f}'.format\n",
        "from yellowbrick.regressor import PredictionError\n",
        "from yellowbrick.features import RadViz\n",
        "from yellowbrick.regressor import ResidualsPlot\n",
        "from sklearn.linear_model import Ridge, RidgeCV\n",
        "from sklearn.model_selection import GridSearchCV\n",
        "from sklearn.linear_model import Lasso, LassoCV\n",
        "from sklearn.linear_model import ElasticNet\n",
        "from sklearn.tree import DecisionTreeRegressor\n",
        "from sklearn.ensemble import ExtraTreesRegressor\n",
        "from sklearn.model_selection import train_test_split\n",
        "from sklearn.metrics import accuracy_score as acc\n",
        "from sklearn.ensemble import RandomForestRegressor"
      ],
      "metadata": {
        "id": "F4XEDaXhwYaD"
      },
      "execution_count": 1,
      "outputs": []
    },
    {
      "cell_type": "code",
      "source": [
        "df=pd.read_csv(\"last_data.csv\")"
      ],
      "metadata": {
        "id": "gAhEBIcbwalw"
      },
      "execution_count": 2,
      "outputs": []
    },
    {
      "cell_type": "code",
      "source": [
        "df"
      ],
      "metadata": {
        "colab": {
          "base_uri": "https://localhost:8080/",
          "height": 505
        },
        "id": "r2ufL5oOw5Nj",
        "outputId": "47937962-1716-4502-e8a4-41d76b3b79f2"
      },
      "execution_count": 3,
      "outputs": [
        {
          "output_type": "execute_result",
          "data": {
            "text/plain": [
              "             km   hp_kW   age  price  make_model_A1  make_model_A3  \\\n",
              "0     56013.000  66.000 3.000  15770              1              0   \n",
              "1     80000.000 141.000 2.000  14500              1              0   \n",
              "2     83450.000  85.000 3.000  14640              1              0   \n",
              "3     73000.000  66.000 3.000  14500              1              0   \n",
              "4     16200.000  66.000 3.000  16790              1              0   \n",
              "...         ...     ...   ...    ...            ...            ...   \n",
              "15412 10803.000 118.000 1.000  33990              0              0   \n",
              "15413    15.000 165.000 0.000  33975              0              0   \n",
              "15414     1.000 118.000 1.000  33990              0              0   \n",
              "15415    15.000 146.000 0.000  33975              0              0   \n",
              "15416     1.000 118.000 1.000  34200              0              0   \n",
              "\n",
              "       make_model_Astra  make_model_Clio  make_model_Corsa  make_model_Duster  \\\n",
              "0                     0                0                 0                  0   \n",
              "1                     0                0                 0                  0   \n",
              "2                     0                0                 0                  0   \n",
              "3                     0                0                 0                  0   \n",
              "4                     0                0                 0                  0   \n",
              "...                 ...              ...               ...                ...   \n",
              "15412                 0                0                 0                  0   \n",
              "15413                 0                0                 0                  0   \n",
              "15414                 0                0                 0                  0   \n",
              "15415                 0                0                 0                  0   \n",
              "15416                 0                0                 0                  0   \n",
              "\n",
              "       make_model_Espace  make_model_Insignia  Gearing_Type_Automatic  \\\n",
              "0                      0                    0                       1   \n",
              "1                      0                    0                       1   \n",
              "2                      0                    0                       1   \n",
              "3                      0                    0                       1   \n",
              "4                      0                    0                       1   \n",
              "...                  ...                  ...                     ...   \n",
              "15412                  1                    0                       1   \n",
              "15413                  1                    0                       1   \n",
              "15414                  1                    0                       1   \n",
              "15415                  1                    0                       1   \n",
              "15416                  1                    0                       1   \n",
              "\n",
              "       Gearing_Type_Manual  Gearing_Type_Semi-automatic  \n",
              "0                        0                            0  \n",
              "1                        0                            0  \n",
              "2                        0                            0  \n",
              "3                        0                            0  \n",
              "4                        0                            0  \n",
              "...                    ...                          ...  \n",
              "15412                    0                            0  \n",
              "15413                    0                            0  \n",
              "15414                    0                            0  \n",
              "15415                    0                            0  \n",
              "15416                    0                            0  \n",
              "\n",
              "[15417 rows x 15 columns]"
            ],
            "text/html": [
              "\n",
              "  <div id=\"df-4000a595-7447-48c6-b707-767731b4a868\">\n",
              "    <div class=\"colab-df-container\">\n",
              "      <div>\n",
              "<style scoped>\n",
              "    .dataframe tbody tr th:only-of-type {\n",
              "        vertical-align: middle;\n",
              "    }\n",
              "\n",
              "    .dataframe tbody tr th {\n",
              "        vertical-align: top;\n",
              "    }\n",
              "\n",
              "    .dataframe thead th {\n",
              "        text-align: right;\n",
              "    }\n",
              "</style>\n",
              "<table border=\"1\" class=\"dataframe\">\n",
              "  <thead>\n",
              "    <tr style=\"text-align: right;\">\n",
              "      <th></th>\n",
              "      <th>km</th>\n",
              "      <th>hp_kW</th>\n",
              "      <th>age</th>\n",
              "      <th>price</th>\n",
              "      <th>make_model_A1</th>\n",
              "      <th>make_model_A3</th>\n",
              "      <th>make_model_Astra</th>\n",
              "      <th>make_model_Clio</th>\n",
              "      <th>make_model_Corsa</th>\n",
              "      <th>make_model_Duster</th>\n",
              "      <th>make_model_Espace</th>\n",
              "      <th>make_model_Insignia</th>\n",
              "      <th>Gearing_Type_Automatic</th>\n",
              "      <th>Gearing_Type_Manual</th>\n",
              "      <th>Gearing_Type_Semi-automatic</th>\n",
              "    </tr>\n",
              "  </thead>\n",
              "  <tbody>\n",
              "    <tr>\n",
              "      <th>0</th>\n",
              "      <td>56013.000</td>\n",
              "      <td>66.000</td>\n",
              "      <td>3.000</td>\n",
              "      <td>15770</td>\n",
              "      <td>1</td>\n",
              "      <td>0</td>\n",
              "      <td>0</td>\n",
              "      <td>0</td>\n",
              "      <td>0</td>\n",
              "      <td>0</td>\n",
              "      <td>0</td>\n",
              "      <td>0</td>\n",
              "      <td>1</td>\n",
              "      <td>0</td>\n",
              "      <td>0</td>\n",
              "    </tr>\n",
              "    <tr>\n",
              "      <th>1</th>\n",
              "      <td>80000.000</td>\n",
              "      <td>141.000</td>\n",
              "      <td>2.000</td>\n",
              "      <td>14500</td>\n",
              "      <td>1</td>\n",
              "      <td>0</td>\n",
              "      <td>0</td>\n",
              "      <td>0</td>\n",
              "      <td>0</td>\n",
              "      <td>0</td>\n",
              "      <td>0</td>\n",
              "      <td>0</td>\n",
              "      <td>1</td>\n",
              "      <td>0</td>\n",
              "      <td>0</td>\n",
              "    </tr>\n",
              "    <tr>\n",
              "      <th>2</th>\n",
              "      <td>83450.000</td>\n",
              "      <td>85.000</td>\n",
              "      <td>3.000</td>\n",
              "      <td>14640</td>\n",
              "      <td>1</td>\n",
              "      <td>0</td>\n",
              "      <td>0</td>\n",
              "      <td>0</td>\n",
              "      <td>0</td>\n",
              "      <td>0</td>\n",
              "      <td>0</td>\n",
              "      <td>0</td>\n",
              "      <td>1</td>\n",
              "      <td>0</td>\n",
              "      <td>0</td>\n",
              "    </tr>\n",
              "    <tr>\n",
              "      <th>3</th>\n",
              "      <td>73000.000</td>\n",
              "      <td>66.000</td>\n",
              "      <td>3.000</td>\n",
              "      <td>14500</td>\n",
              "      <td>1</td>\n",
              "      <td>0</td>\n",
              "      <td>0</td>\n",
              "      <td>0</td>\n",
              "      <td>0</td>\n",
              "      <td>0</td>\n",
              "      <td>0</td>\n",
              "      <td>0</td>\n",
              "      <td>1</td>\n",
              "      <td>0</td>\n",
              "      <td>0</td>\n",
              "    </tr>\n",
              "    <tr>\n",
              "      <th>4</th>\n",
              "      <td>16200.000</td>\n",
              "      <td>66.000</td>\n",
              "      <td>3.000</td>\n",
              "      <td>16790</td>\n",
              "      <td>1</td>\n",
              "      <td>0</td>\n",
              "      <td>0</td>\n",
              "      <td>0</td>\n",
              "      <td>0</td>\n",
              "      <td>0</td>\n",
              "      <td>0</td>\n",
              "      <td>0</td>\n",
              "      <td>1</td>\n",
              "      <td>0</td>\n",
              "      <td>0</td>\n",
              "    </tr>\n",
              "    <tr>\n",
              "      <th>...</th>\n",
              "      <td>...</td>\n",
              "      <td>...</td>\n",
              "      <td>...</td>\n",
              "      <td>...</td>\n",
              "      <td>...</td>\n",
              "      <td>...</td>\n",
              "      <td>...</td>\n",
              "      <td>...</td>\n",
              "      <td>...</td>\n",
              "      <td>...</td>\n",
              "      <td>...</td>\n",
              "      <td>...</td>\n",
              "      <td>...</td>\n",
              "      <td>...</td>\n",
              "      <td>...</td>\n",
              "    </tr>\n",
              "    <tr>\n",
              "      <th>15412</th>\n",
              "      <td>10803.000</td>\n",
              "      <td>118.000</td>\n",
              "      <td>1.000</td>\n",
              "      <td>33990</td>\n",
              "      <td>0</td>\n",
              "      <td>0</td>\n",
              "      <td>0</td>\n",
              "      <td>0</td>\n",
              "      <td>0</td>\n",
              "      <td>0</td>\n",
              "      <td>1</td>\n",
              "      <td>0</td>\n",
              "      <td>1</td>\n",
              "      <td>0</td>\n",
              "      <td>0</td>\n",
              "    </tr>\n",
              "    <tr>\n",
              "      <th>15413</th>\n",
              "      <td>15.000</td>\n",
              "      <td>165.000</td>\n",
              "      <td>0.000</td>\n",
              "      <td>33975</td>\n",
              "      <td>0</td>\n",
              "      <td>0</td>\n",
              "      <td>0</td>\n",
              "      <td>0</td>\n",
              "      <td>0</td>\n",
              "      <td>0</td>\n",
              "      <td>1</td>\n",
              "      <td>0</td>\n",
              "      <td>1</td>\n",
              "      <td>0</td>\n",
              "      <td>0</td>\n",
              "    </tr>\n",
              "    <tr>\n",
              "      <th>15414</th>\n",
              "      <td>1.000</td>\n",
              "      <td>118.000</td>\n",
              "      <td>1.000</td>\n",
              "      <td>33990</td>\n",
              "      <td>0</td>\n",
              "      <td>0</td>\n",
              "      <td>0</td>\n",
              "      <td>0</td>\n",
              "      <td>0</td>\n",
              "      <td>0</td>\n",
              "      <td>1</td>\n",
              "      <td>0</td>\n",
              "      <td>1</td>\n",
              "      <td>0</td>\n",
              "      <td>0</td>\n",
              "    </tr>\n",
              "    <tr>\n",
              "      <th>15415</th>\n",
              "      <td>15.000</td>\n",
              "      <td>146.000</td>\n",
              "      <td>0.000</td>\n",
              "      <td>33975</td>\n",
              "      <td>0</td>\n",
              "      <td>0</td>\n",
              "      <td>0</td>\n",
              "      <td>0</td>\n",
              "      <td>0</td>\n",
              "      <td>0</td>\n",
              "      <td>1</td>\n",
              "      <td>0</td>\n",
              "      <td>1</td>\n",
              "      <td>0</td>\n",
              "      <td>0</td>\n",
              "    </tr>\n",
              "    <tr>\n",
              "      <th>15416</th>\n",
              "      <td>1.000</td>\n",
              "      <td>118.000</td>\n",
              "      <td>1.000</td>\n",
              "      <td>34200</td>\n",
              "      <td>0</td>\n",
              "      <td>0</td>\n",
              "      <td>0</td>\n",
              "      <td>0</td>\n",
              "      <td>0</td>\n",
              "      <td>0</td>\n",
              "      <td>1</td>\n",
              "      <td>0</td>\n",
              "      <td>1</td>\n",
              "      <td>0</td>\n",
              "      <td>0</td>\n",
              "    </tr>\n",
              "  </tbody>\n",
              "</table>\n",
              "<p>15417 rows × 15 columns</p>\n",
              "</div>\n",
              "      <button class=\"colab-df-convert\" onclick=\"convertToInteractive('df-4000a595-7447-48c6-b707-767731b4a868')\"\n",
              "              title=\"Convert this dataframe to an interactive table.\"\n",
              "              style=\"display:none;\">\n",
              "        \n",
              "  <svg xmlns=\"http://www.w3.org/2000/svg\" height=\"24px\"viewBox=\"0 0 24 24\"\n",
              "       width=\"24px\">\n",
              "    <path d=\"M0 0h24v24H0V0z\" fill=\"none\"/>\n",
              "    <path d=\"M18.56 5.44l.94 2.06.94-2.06 2.06-.94-2.06-.94-.94-2.06-.94 2.06-2.06.94zm-11 1L8.5 8.5l.94-2.06 2.06-.94-2.06-.94L8.5 2.5l-.94 2.06-2.06.94zm10 10l.94 2.06.94-2.06 2.06-.94-2.06-.94-.94-2.06-.94 2.06-2.06.94z\"/><path d=\"M17.41 7.96l-1.37-1.37c-.4-.4-.92-.59-1.43-.59-.52 0-1.04.2-1.43.59L10.3 9.45l-7.72 7.72c-.78.78-.78 2.05 0 2.83L4 21.41c.39.39.9.59 1.41.59.51 0 1.02-.2 1.41-.59l7.78-7.78 2.81-2.81c.8-.78.8-2.07 0-2.86zM5.41 20L4 18.59l7.72-7.72 1.47 1.35L5.41 20z\"/>\n",
              "  </svg>\n",
              "      </button>\n",
              "      \n",
              "  <style>\n",
              "    .colab-df-container {\n",
              "      display:flex;\n",
              "      flex-wrap:wrap;\n",
              "      gap: 12px;\n",
              "    }\n",
              "\n",
              "    .colab-df-convert {\n",
              "      background-color: #E8F0FE;\n",
              "      border: none;\n",
              "      border-radius: 50%;\n",
              "      cursor: pointer;\n",
              "      display: none;\n",
              "      fill: #1967D2;\n",
              "      height: 32px;\n",
              "      padding: 0 0 0 0;\n",
              "      width: 32px;\n",
              "    }\n",
              "\n",
              "    .colab-df-convert:hover {\n",
              "      background-color: #E2EBFA;\n",
              "      box-shadow: 0px 1px 2px rgba(60, 64, 67, 0.3), 0px 1px 3px 1px rgba(60, 64, 67, 0.15);\n",
              "      fill: #174EA6;\n",
              "    }\n",
              "\n",
              "    [theme=dark] .colab-df-convert {\n",
              "      background-color: #3B4455;\n",
              "      fill: #D2E3FC;\n",
              "    }\n",
              "\n",
              "    [theme=dark] .colab-df-convert:hover {\n",
              "      background-color: #434B5C;\n",
              "      box-shadow: 0px 1px 3px 1px rgba(0, 0, 0, 0.15);\n",
              "      filter: drop-shadow(0px 1px 2px rgba(0, 0, 0, 0.3));\n",
              "      fill: #FFFFFF;\n",
              "    }\n",
              "  </style>\n",
              "\n",
              "      <script>\n",
              "        const buttonEl =\n",
              "          document.querySelector('#df-4000a595-7447-48c6-b707-767731b4a868 button.colab-df-convert');\n",
              "        buttonEl.style.display =\n",
              "          google.colab.kernel.accessAllowed ? 'block' : 'none';\n",
              "\n",
              "        async function convertToInteractive(key) {\n",
              "          const element = document.querySelector('#df-4000a595-7447-48c6-b707-767731b4a868');\n",
              "          const dataTable =\n",
              "            await google.colab.kernel.invokeFunction('convertToInteractive',\n",
              "                                                     [key], {});\n",
              "          if (!dataTable) return;\n",
              "\n",
              "          const docLinkHtml = 'Like what you see? Visit the ' +\n",
              "            '<a target=\"_blank\" href=https://colab.research.google.com/notebooks/data_table.ipynb>data table notebook</a>'\n",
              "            + ' to learn more about interactive tables.';\n",
              "          element.innerHTML = '';\n",
              "          dataTable['output_type'] = 'display_data';\n",
              "          await google.colab.output.renderOutput(dataTable, element);\n",
              "          const docLink = document.createElement('div');\n",
              "          docLink.innerHTML = docLinkHtml;\n",
              "          element.appendChild(docLink);\n",
              "        }\n",
              "      </script>\n",
              "    </div>\n",
              "  </div>\n",
              "  "
            ]
          },
          "metadata": {},
          "execution_count": 3
        }
      ]
    },
    {
      "cell_type": "code",
      "source": [
        "sns.histplot(df.price, bins=50, kde=True);"
      ],
      "metadata": {
        "colab": {
          "base_uri": "https://localhost:8080/",
          "height": 388
        },
        "id": "L7YBJIVow51X",
        "outputId": "8bed0acb-a7c3-436a-dba9-165c69131b93"
      },
      "execution_count": 4,
      "outputs": [
        {
          "output_type": "display_data",
          "data": {
            "text/plain": [
              "<Figure size 720x432 with 1 Axes>"
            ],
            "image/png": "[encoded data removed]"
          },
          "metadata": {}
        }
      ]
    },
    {
      "cell_type": "code",
      "source": [
        "def train_val(model, X_train, y_train, X_test, y_test):\n",
        "    \n",
        "    y_pred = model.predict(X_test)\n",
        "    y_train_pred = model.predict(X_train) # overfitting var mı yok mu kıyaslamak için\n",
        "    \n",
        "    scores = {\"train\": {\"R2\" : r2_score(y_train, y_train_pred),\n",
        "    \"mae\" : mean_absolute_error(y_train, y_train_pred),\n",
        "    \"mse\" : mean_squared_error(y_train, y_train_pred),                          \n",
        "    \"rmse\" : np.sqrt(mean_squared_error(y_train, y_train_pred))},\n",
        "    \n",
        "    \"test\": {\"R2\" : r2_score(y_test, y_pred),\n",
        "    \"mae\" : mean_absolute_error(y_test, y_pred),\n",
        "    \"mse\" : mean_squared_error(y_test, y_pred),\n",
        "    \"rmse\" : np.sqrt(mean_squared_error(y_test, y_pred))}}\n",
        "    \n",
        "    return pd.DataFrame(scores)"
      ],
      "metadata": {
        "id": "TPr66nJN4i4t"
      },
      "execution_count": 5,
      "outputs": []
    },
    {
      "cell_type": "code",
      "source": [
        "X=df.drop(columns=[\"price\"])\n",
        "y=df.price"
      ],
      "metadata": {
        "id": "Et6KQLRCxSIu"
      },
      "execution_count": 6,
      "outputs": []
    },
    {
      "cell_type": "code",
      "source": [
        "X_train,X_test,y_train,y_test=train_test_split(X,y,test_size=0.3,random_state=101)"
      ],
      "metadata": {
        "id": "FgedVv5cyM-K"
      },
      "execution_count": 7,
      "outputs": []
    },
    {
      "cell_type": "markdown",
      "source": [
        "#Random_Forest"
      ],
      "metadata": {
        "id": "IfuzXj_Pxl2P"
      }
    },
    {
      "cell_type": "code",
      "source": [
        "random_final_model= RandomForestRegressor(n_estimators= 500,max_depth=None,min_samples_leaf=2,min_samples_split=8,max_features=2)"
      ],
      "metadata": {
        "id": "KOFJEupoxoHc"
      },
      "execution_count": 8,
      "outputs": []
    },
    {
      "cell_type": "code",
      "source": [
        "random_final_model.fit(X_train,y_train)"
      ],
      "metadata": {
        "colab": {
          "base_uri": "https://localhost:8080/"
        },
        "id": "2Lk4ryknyDy1",
        "outputId": "a3061ce4-c869-4717-8876-b6933d5559ff"
      },
      "execution_count": 9,
      "outputs": [
        {
          "output_type": "execute_result",
          "data": {
            "text/plain": [
              "RandomForestRegressor(max_features=2, min_samples_leaf=2, min_samples_split=8,\n",
              "                      n_estimators=500)"
            ]
          },
          "metadata": {},
          "execution_count": 9
        }
      ]
    },
    {
      "cell_type": "code",
      "source": [
        "y_pred = random_final_model.predict(X_test)\n",
        "rn_R2 = r2_score(y_test, y_pred)\n",
        "rn_mae = mean_absolute_error(y_test, y_pred)\n",
        "rn_rmse = np.sqrt(mean_squared_error(y_test, y_pred))"
      ],
      "metadata": {
        "id": "QqMjuyTx0E9k"
      },
      "execution_count": 10,
      "outputs": []
    },
    {
      "cell_type": "code",
      "source": [
        "random_final= RandomForestRegressor(n_estimators= 500,max_depth=None,min_samples_leaf=2,min_samples_split=8,max_features=2)"
      ],
      "metadata": {
        "id": "WLV19ZG8z9P7"
      },
      "execution_count": 11,
      "outputs": []
    },
    {
      "cell_type": "code",
      "source": [
        "random_final.fit(X,y)"
      ],
      "metadata": {
        "colab": {
          "base_uri": "https://localhost:8080/"
        },
        "id": "6DCNb-pTyENe",
        "outputId": "5e43b53d-a862-42cc-a126-ad478680d910"
      },
      "execution_count": 12,
      "outputs": [
        {
          "output_type": "execute_result",
          "data": {
            "text/plain": [
              "RandomForestRegressor(max_features=2, min_samples_leaf=2, min_samples_split=8,\n",
              "                      n_estimators=500)"
            ]
          },
          "metadata": {},
          "execution_count": 12
        }
      ]
    },
    {
      "cell_type": "markdown",
      "source": [
        "#Decision_Tree"
      ],
      "metadata": {
        "id": "JEAjwMAVzbwY"
      }
    },
    {
      "cell_type": "code",
      "source": [
        "tuned_hyper_model= DecisionTreeRegressor(max_depth=None,min_samples_leaf=2,min_samples_split=8,splitter='random')"
      ],
      "metadata": {
        "id": "rTLTQQjQzdY9"
      },
      "execution_count": 13,
      "outputs": []
    },
    {
      "cell_type": "code",
      "source": [
        "tuned_hyper_model.fit(X_train,y_train)"
      ],
      "metadata": {
        "colab": {
          "base_uri": "https://localhost:8080/"
        },
        "id": "TSyM702Szmy3",
        "outputId": "10e3a100-4fc4-4fd0-bf9e-b95798b67653"
      },
      "execution_count": 14,
      "outputs": [
        {
          "output_type": "execute_result",
          "data": {
            "text/plain": [
              "DecisionTreeRegressor(min_samples_leaf=2, min_samples_split=8,\n",
              "                      splitter='random')"
            ]
          },
          "metadata": {},
          "execution_count": 14
        }
      ]
    },
    {
      "cell_type": "code",
      "source": [
        "y_pred = tuned_hyper_model.predict(X_test)\n",
        "Dt_R2 = r2_score(y_test, y_pred)\n",
        "Dt_mae = mean_absolute_error(y_test, y_pred)\n",
        "Dt_rmse = np.sqrt(mean_squared_error(y_test, y_pred))"
      ],
      "metadata": {
        "id": "Wy6JvROizope"
      },
      "execution_count": 15,
      "outputs": []
    },
    {
      "cell_type": "code",
      "source": [
        "Decision_T= DecisionTreeRegressor(max_depth=None,min_samples_leaf=2,min_samples_split=8,splitter='random')"
      ],
      "metadata": {
        "id": "Ww-9mNyr0gi7"
      },
      "execution_count": 16,
      "outputs": []
    },
    {
      "cell_type": "code",
      "source": [
        "Decision_T.fit(X,y)"
      ],
      "metadata": {
        "colab": {
          "base_uri": "https://localhost:8080/"
        },
        "id": "5scSWOSr0pFj",
        "outputId": "5ea05abd-cae4-4a10-dad9-1665f011573f"
      },
      "execution_count": 17,
      "outputs": [
        {
          "output_type": "execute_result",
          "data": {
            "text/plain": [
              "DecisionTreeRegressor(min_samples_leaf=2, min_samples_split=8,\n",
              "                      splitter='random')"
            ]
          },
          "metadata": {},
          "execution_count": 17
        }
      ]
    },
    {
      "cell_type": "markdown",
      "source": [
        "# Lasso"
      ],
      "metadata": {
        "id": "8K3e-Ui02Jir"
      }
    },
    {
      "cell_type": "code",
      "source": [
        "scaler = MinMaxScaler()\n",
        "scaler.fit(X_train)\n",
        "\n",
        "X_train_scaled = scaler.transform(X_train)\n",
        "X_test_scaled = scaler.transform(X_test)\n",
        "alpha_space = np.linspace(0.01, 100, 100)"
      ],
      "metadata": {
        "id": "apWF0gch4JLM"
      },
      "execution_count": 18,
      "outputs": []
    },
    {
      "cell_type": "code",
      "source": [
        "lasso_model = Lasso(random_state=42)\n",
        "\n",
        "param_grid = {'alpha':alpha_space}\n",
        "\n",
        "lasso_grid_model = GridSearchCV(estimator=lasso_model,\n",
        "                          param_grid=param_grid,\n",
        "                          scoring='neg_root_mean_squared_error',\n",
        "                          cv=10,\n",
        "                          n_jobs = -1)\n",
        "lasso_grid_model.fit(X_train_scaled,y_train)"
      ],
      "metadata": {
        "colab": {
          "base_uri": "https://localhost:8080/"
        },
        "id": "mDgmb2-42Lzr",
        "outputId": "3ddcf7d1-f740-4727-f379-3837d25a3474"
      },
      "execution_count": 19,
      "outputs": [
        {
          "output_type": "execute_result",
          "data": {
            "text/plain": [
              "GridSearchCV(cv=10, estimator=Lasso(random_state=42), n_jobs=-1,\n",
              "             param_grid={'alpha': array([1.000e-02, 1.020e+00, 2.030e+00, 3.040e+00, 4.050e+00, 5.060e+00,\n",
              "       6.070e+00, 7.080e+00, 8.090e+00, 9.100e+00, 1.011e+01, 1.112e+01,\n",
              "       1.213e+01, 1.314e+01, 1.415e+01, 1.516e+01, 1.617e+01, 1.718e+01,\n",
              "       1.819e+01, 1.920e+01, 2.021e+01, 2.122e+01, 2.223e+01, 2.324e+01,\n",
              "       2.425e+01, 2.526e+01, 2...\n",
              "       6.667e+01, 6.768e+01, 6.869e+01, 6.970e+01, 7.071e+01, 7.172e+01,\n",
              "       7.273e+01, 7.374e+01, 7.475e+01, 7.576e+01, 7.677e+01, 7.778e+01,\n",
              "       7.879e+01, 7.980e+01, 8.081e+01, 8.182e+01, 8.283e+01, 8.384e+01,\n",
              "       8.485e+01, 8.586e+01, 8.687e+01, 8.788e+01, 8.889e+01, 8.990e+01,\n",
              "       9.091e+01, 9.192e+01, 9.293e+01, 9.394e+01, 9.495e+01, 9.596e+01,\n",
              "       9.697e+01, 9.798e+01, 9.899e+01, 1.000e+02])},\n",
              "             scoring='neg_root_mean_squared_error')"
            ]
          },
          "metadata": {},
          "execution_count": 19
        }
      ]
    },
    {
      "cell_type": "code",
      "source": [
        "train_val(lasso_grid_model, X_train_scaled, y_train, X_test_scaled, y_test)"
      ],
      "metadata": {
        "colab": {
          "base_uri": "https://localhost:8080/",
          "height": 175
        },
        "id": "ffFUOiCv4cGh",
        "outputId": "951221bc-1230-46d8-9e85-65bfd9105dfa"
      },
      "execution_count": 20,
      "outputs": [
        {
          "output_type": "execute_result",
          "data": {
            "text/plain": [
              "           train        test\n",
              "R2         0.870       0.868\n",
              "mae     1593.542    1600.997\n",
              "mse  4917657.368 4915994.583\n",
              "rmse    2217.579    2217.204"
            ],
            "text/html": [
              "\n",
              "  <div id=\"df-0a0e3c6e-5930-4292-986c-790accac4a4a\">\n",
              "    <div class=\"colab-df-container\">\n",
              "      <div>\n",
              "<style scoped>\n",
              "    .dataframe tbody tr th:only-of-type {\n",
              "        vertical-align: middle;\n",
              "    }\n",
              "\n",
              "    .dataframe tbody tr th {\n",
              "        vertical-align: top;\n",
              "    }\n",
              "\n",
              "    .dataframe thead th {\n",
              "        text-align: right;\n",
              "    }\n",
              "</style>\n",
              "<table border=\"1\" class=\"dataframe\">\n",
              "  <thead>\n",
              "    <tr style=\"text-align: right;\">\n",
              "      <th></th>\n",
              "      <th>train</th>\n",
              "      <th>test</th>\n",
              "    </tr>\n",
              "  </thead>\n",
              "  <tbody>\n",
              "    <tr>\n",
              "      <th>R2</th>\n",
              "      <td>0.870</td>\n",
              "      <td>0.868</td>\n",
              "    </tr>\n",
              "    <tr>\n",
              "      <th>mae</th>\n",
              "      <td>1593.542</td>\n",
              "      <td>1600.997</td>\n",
              "    </tr>\n",
              "    <tr>\n",
              "      <th>mse</th>\n",
              "      <td>4917657.368</td>\n",
              "      <td>4915994.583</td>\n",
              "    </tr>\n",
              "    <tr>\n",
              "      <th>rmse</th>\n",
              "      <td>2217.579</td>\n",
              "      <td>2217.204</td>\n",
              "    </tr>\n",
              "  </tbody>\n",
              "</table>\n",
              "</div>\n",
              "      <button class=\"colab-df-convert\" onclick=\"convertToInteractive('df-0a0e3c6e-5930-4292-986c-790accac4a4a')\"\n",
              "              title=\"Convert this dataframe to an interactive table.\"\n",
              "              style=\"display:none;\">\n",
              "        \n",
              "  <svg xmlns=\"http://www.w3.org/2000/svg\" height=\"24px\"viewBox=\"0 0 24 24\"\n",
              "       width=\"24px\">\n",
              "    <path d=\"M0 0h24v24H0V0z\" fill=\"none\"/>\n",
              "    <path d=\"M18.56 5.44l.94 2.06.94-2.06 2.06-.94-2.06-.94-.94-2.06-.94 2.06-2.06.94zm-11 1L8.5 8.5l.94-2.06 2.06-.94-2.06-.94L8.5 2.5l-.94 2.06-2.06.94zm10 10l.94 2.06.94-2.06 2.06-.94-2.06-.94-.94-2.06-.94 2.06-2.06.94z\"/><path d=\"M17.41 7.96l-1.37-1.37c-.4-.4-.92-.59-1.43-.59-.52 0-1.04.2-1.43.59L10.3 9.45l-7.72 7.72c-.78.78-.78 2.05 0 2.83L4 21.41c.39.39.9.59 1.41.59.51 0 1.02-.2 1.41-.59l7.78-7.78 2.81-2.81c.8-.78.8-2.07 0-2.86zM5.41 20L4 18.59l7.72-7.72 1.47 1.35L5.41 20z\"/>\n",
              "  </svg>\n",
              "      </button>\n",
              "      \n",
              "  <style>\n",
              "    .colab-df-container {\n",
              "      display:flex;\n",
              "      flex-wrap:wrap;\n",
              "      gap: 12px;\n",
              "    }\n",
              "\n",
              "    .colab-df-convert {\n",
              "      background-color: #E8F0FE;\n",
              "      border: none;\n",
              "      border-radius: 50%;\n",
              "      cursor: pointer;\n",
              "      display: none;\n",
              "      fill: #1967D2;\n",
              "      height: 32px;\n",
              "      padding: 0 0 0 0;\n",
              "      width: 32px;\n",
              "    }\n",
              "\n",
              "    .colab-df-convert:hover {\n",
              "      background-color: #E2EBFA;\n",
              "      box-shadow: 0px 1px 2px rgba(60, 64, 67, 0.3), 0px 1px 3px 1px rgba(60, 64, 67, 0.15);\n",
              "      fill: #174EA6;\n",
              "    }\n",
              "\n",
              "    [theme=dark] .colab-df-convert {\n",
              "      background-color: #3B4455;\n",
              "      fill: #D2E3FC;\n",
              "    }\n",
              "\n",
              "    [theme=dark] .colab-df-convert:hover {\n",
              "      background-color: #434B5C;\n",
              "      box-shadow: 0px 1px 3px 1px rgba(0, 0, 0, 0.15);\n",
              "      filter: drop-shadow(0px 1px 2px rgba(0, 0, 0, 0.3));\n",
              "      fill: #FFFFFF;\n",
              "    }\n",
              "  </style>\n",
              "\n",
              "      <script>\n",
              "        const buttonEl =\n",
              "          document.querySelector('#df-0a0e3c6e-5930-4292-986c-790accac4a4a button.colab-df-convert');\n",
              "        buttonEl.style.display =\n",
              "          google.colab.kernel.accessAllowed ? 'block' : 'none';\n",
              "\n",
              "        async function convertToInteractive(key) {\n",
              "          const element = document.querySelector('#df-0a0e3c6e-5930-4292-986c-790accac4a4a');\n",
              "          const dataTable =\n",
              "            await google.colab.kernel.invokeFunction('convertToInteractive',\n",
              "                                                     [key], {});\n",
              "          if (!dataTable) return;\n",
              "\n",
              "          const docLinkHtml = 'Like what you see? Visit the ' +\n",
              "            '<a target=\"_blank\" href=https://colab.research.google.com/notebooks/data_table.ipynb>data table notebook</a>'\n",
              "            + ' to learn more about interactive tables.';\n",
              "          element.innerHTML = '';\n",
              "          dataTable['output_type'] = 'display_data';\n",
              "          await google.colab.output.renderOutput(dataTable, element);\n",
              "          const docLink = document.createElement('div');\n",
              "          docLink.innerHTML = docLinkHtml;\n",
              "          element.appendChild(docLink);\n",
              "        }\n",
              "      </script>\n",
              "    </div>\n",
              "  </div>\n",
              "  "
            ]
          },
          "metadata": {},
          "execution_count": 20
        }
      ]
    },
    {
      "cell_type": "code",
      "source": [
        "y_pred = lasso_grid_model.predict(X_test_scaled)\n",
        "Lasso_R2 = r2_score(y_test, y_pred)\n",
        "Lasso_mae = mean_absolute_error(y_test, y_pred)\n",
        "Lasso_rmse = np.sqrt(mean_squared_error(y_test, y_pred))"
      ],
      "metadata": {
        "id": "-YQmsGNG2XCl"
      },
      "execution_count": 21,
      "outputs": []
    },
    {
      "cell_type": "code",
      "source": [
        "lasso_grid_model.fit(X,y)"
      ],
      "metadata": {
        "colab": {
          "base_uri": "https://localhost:8080/"
        },
        "id": "q3RBrWdd5NGm",
        "outputId": "63b4242d-a8e1-4582-fbda-070495d9bb25"
      },
      "execution_count": 22,
      "outputs": [
        {
          "output_type": "execute_result",
          "data": {
            "text/plain": [
              "GridSearchCV(cv=10, estimator=Lasso(random_state=42), n_jobs=-1,\n",
              "             param_grid={'alpha': array([1.000e-02, 1.020e+00, 2.030e+00, 3.040e+00, 4.050e+00, 5.060e+00,\n",
              "       6.070e+00, 7.080e+00, 8.090e+00, 9.100e+00, 1.011e+01, 1.112e+01,\n",
              "       1.213e+01, 1.314e+01, 1.415e+01, 1.516e+01, 1.617e+01, 1.718e+01,\n",
              "       1.819e+01, 1.920e+01, 2.021e+01, 2.122e+01, 2.223e+01, 2.324e+01,\n",
              "       2.425e+01, 2.526e+01, 2...\n",
              "       6.667e+01, 6.768e+01, 6.869e+01, 6.970e+01, 7.071e+01, 7.172e+01,\n",
              "       7.273e+01, 7.374e+01, 7.475e+01, 7.576e+01, 7.677e+01, 7.778e+01,\n",
              "       7.879e+01, 7.980e+01, 8.081e+01, 8.182e+01, 8.283e+01, 8.384e+01,\n",
              "       8.485e+01, 8.586e+01, 8.687e+01, 8.788e+01, 8.889e+01, 8.990e+01,\n",
              "       9.091e+01, 9.192e+01, 9.293e+01, 9.394e+01, 9.495e+01, 9.596e+01,\n",
              "       9.697e+01, 9.798e+01, 9.899e+01, 1.000e+02])},\n",
              "             scoring='neg_root_mean_squared_error')"
            ]
          },
          "metadata": {},
          "execution_count": 22
        }
      ]
    },
    {
      "cell_type": "markdown",
      "source": [
        "#Visually Compare Models Performance In a Graph"
      ],
      "metadata": {
        "id": "KZZNFG4u21-L"
      }
    },
    {
      "cell_type": "code",
      "source": [
        "scores = {   \n",
        " \"lasso_m\": {\"r2_score\": Lasso_R2, \n",
        " \"mae\": Lasso_mae, \n",
        " \"rmse\": Lasso_rmse},\n",
        "\n",
        " \"Decission_m\": {\"r2_score\": Dt_R2, \n",
        " \"mae\": Dt_mae, \n",
        " \"rmse\": Dt_rmse},\n",
        "\n",
        "\"Random_m\": {\"r2_score\": rn_R2, \n",
        " \"mae\": rn_mae, \n",
        " \"rmse\": rn_rmse},\n",
        "         \n",
        " #\"final_m\": {\"r2_score\": fm_R2, \n",
        " #\"mae\": fm_mae , \n",
        " #\"rmse\": fm_rmse}\n",
        " }\n",
        "scores = pd.DataFrame(scores).T\n",
        "scores"
      ],
      "metadata": {
        "colab": {
          "base_uri": "https://localhost:8080/",
          "height": 143
        },
        "id": "MHLckrHW24ad",
        "outputId": "179e6d86-40e0-4b87-b6bf-fb220a4743cc"
      },
      "execution_count": 23,
      "outputs": [
        {
          "output_type": "execute_result",
          "data": {
            "text/plain": [
              "             r2_score      mae     rmse\n",
              "lasso_m         0.868 1600.997 2217.204\n",
              "Decission_m     0.935 1048.577 1559.265\n",
              "Random_m        0.941 1003.768 1484.379"
            ],
            "text/html": [
              "\n",
              "  <div id=\"df-5f679742-f780-42f0-a035-0f9d82b0235f\">\n",
              "    <div class=\"colab-df-container\">\n",
              "      <div>\n",
              "<style scoped>\n",
              "    .dataframe tbody tr th:only-of-type {\n",
              "        vertical-align: middle;\n",
              "    }\n",
              "\n",
              "    .dataframe tbody tr th {\n",
              "        vertical-align: top;\n",
              "    }\n",
              "\n",
              "    .dataframe thead th {\n",
              "        text-align: right;\n",
              "    }\n",
              "</style>\n",
              "<table border=\"1\" class=\"dataframe\">\n",
              "  <thead>\n",
              "    <tr style=\"text-align: right;\">\n",
              "      <th></th>\n",
              "      <th>r2_score</th>\n",
              "      <th>mae</th>\n",
              "      <th>rmse</th>\n",
              "    </tr>\n",
              "  </thead>\n",
              "  <tbody>\n",
              "    <tr>\n",
              "      <th>lasso_m</th>\n",
              "      <td>0.868</td>\n",
              "      <td>1600.997</td>\n",
              "      <td>2217.204</td>\n",
              "    </tr>\n",
              "    <tr>\n",
              "      <th>Decission_m</th>\n",
              "      <td>0.935</td>\n",
              "      <td>1048.577</td>\n",
              "      <td>1559.265</td>\n",
              "    </tr>\n",
              "    <tr>\n",
              "      <th>Random_m</th>\n",
              "      <td>0.941</td>\n",
              "      <td>1003.768</td>\n",
              "      <td>1484.379</td>\n",
              "    </tr>\n",
              "  </tbody>\n",
              "</table>\n",
              "</div>\n",
              "      <button class=\"colab-df-convert\" onclick=\"convertToInteractive('df-5f679742-f780-42f0-a035-0f9d82b0235f')\"\n",
              "              title=\"Convert this dataframe to an interactive table.\"\n",
              "              style=\"display:none;\">\n",
              "        \n",
              "  <svg xmlns=\"http://www.w3.org/2000/svg\" height=\"24px\"viewBox=\"0 0 24 24\"\n",
              "       width=\"24px\">\n",
              "    <path d=\"M0 0h24v24H0V0z\" fill=\"none\"/>\n",
              "    <path d=\"M18.56 5.44l.94 2.06.94-2.06 2.06-.94-2.06-.94-.94-2.06-.94 2.06-2.06.94zm-11 1L8.5 8.5l.94-2.06 2.06-.94-2.06-.94L8.5 2.5l-.94 2.06-2.06.94zm10 10l.94 2.06.94-2.06 2.06-.94-2.06-.94-.94-2.06-.94 2.06-2.06.94z\"/><path d=\"M17.41 7.96l-1.37-1.37c-.4-.4-.92-.59-1.43-.59-.52 0-1.04.2-1.43.59L10.3 9.45l-7.72 7.72c-.78.78-.78 2.05 0 2.83L4 21.41c.39.39.9.59 1.41.59.51 0 1.02-.2 1.41-.59l7.78-7.78 2.81-2.81c.8-.78.8-2.07 0-2.86zM5.41 20L4 18.59l7.72-7.72 1.47 1.35L5.41 20z\"/>\n",
              "  </svg>\n",
              "      </button>\n",
              "      \n",
              "  <style>\n",
              "    .colab-df-container {\n",
              "      display:flex;\n",
              "      flex-wrap:wrap;\n",
              "      gap: 12px;\n",
              "    }\n",
              "\n",
              "    .colab-df-convert {\n",
              "      background-color: #E8F0FE;\n",
              "      border: none;\n",
              "      border-radius: 50%;\n",
              "      cursor: pointer;\n",
              "      display: none;\n",
              "      fill: #1967D2;\n",
              "      height: 32px;\n",
              "      padding: 0 0 0 0;\n",
              "      width: 32px;\n",
              "    }\n",
              "\n",
              "    .colab-df-convert:hover {\n",
              "      background-color: #E2EBFA;\n",
              "      box-shadow: 0px 1px 2px rgba(60, 64, 67, 0.3), 0px 1px 3px 1px rgba(60, 64, 67, 0.15);\n",
              "      fill: #174EA6;\n",
              "    }\n",
              "\n",
              "    [theme=dark] .colab-df-convert {\n",
              "      background-color: #3B4455;\n",
              "      fill: #D2E3FC;\n",
              "    }\n",
              "\n",
              "    [theme=dark] .colab-df-convert:hover {\n",
              "      background-color: #434B5C;\n",
              "      box-shadow: 0px 1px 3px 1px rgba(0, 0, 0, 0.15);\n",
              "      filter: drop-shadow(0px 1px 2px rgba(0, 0, 0, 0.3));\n",
              "      fill: #FFFFFF;\n",
              "    }\n",
              "  </style>\n",
              "\n",
              "      <script>\n",
              "        const buttonEl =\n",
              "          document.querySelector('#df-5f679742-f780-42f0-a035-0f9d82b0235f button.colab-df-convert');\n",
              "        buttonEl.style.display =\n",
              "          google.colab.kernel.accessAllowed ? 'block' : 'none';\n",
              "\n",
              "        async function convertToInteractive(key) {\n",
              "          const element = document.querySelector('#df-5f679742-f780-42f0-a035-0f9d82b0235f');\n",
              "          const dataTable =\n",
              "            await google.colab.kernel.invokeFunction('convertToInteractive',\n",
              "                                                     [key], {});\n",
              "          if (!dataTable) return;\n",
              "\n",
              "          const docLinkHtml = 'Like what you see? Visit the ' +\n",
              "            '<a target=\"_blank\" href=https://colab.research.google.com/notebooks/data_table.ipynb>data table notebook</a>'\n",
              "            + ' to learn more about interactive tables.';\n",
              "          element.innerHTML = '';\n",
              "          dataTable['output_type'] = 'display_data';\n",
              "          await google.colab.output.renderOutput(dataTable, element);\n",
              "          const docLink = document.createElement('div');\n",
              "          docLink.innerHTML = docLinkHtml;\n",
              "          element.appendChild(docLink);\n",
              "        }\n",
              "      </script>\n",
              "    </div>\n",
              "  </div>\n",
              "  "
            ]
          },
          "metadata": {},
          "execution_count": 23
        }
      ]
    },
    {
      "cell_type": "code",
      "source": [
        "#metrics = scores.columns\n",
        "for i, j in enumerate(scores):\n",
        "    plt.figure(i)\n",
        "    if j == \"r2_score\":\n",
        "        ascending = False\n",
        "    else:\n",
        "        ascending = True\n",
        "    compare = scores.sort_values(by=j, ascending=ascending)\n",
        "    ax = sns.barplot(x = compare[j] , y= compare.index)\n",
        "    for p in ax.patches:\n",
        "            width = p.get_width()                        # get bar length\n",
        "            ax.text(width,                               # set the text at 1 unit right of the bar\n",
        "                    p.get_y() + p.get_height() / 2,      # get Y coordinate + X coordinate / 2\n",
        "                    '{:.4f}'.format(width),             # set variable to display, 2 decimals\n",
        "                    ha = 'left',                         # horizontal alignment\n",
        "                    va = 'center') "
      ],
      "metadata": {
        "colab": {
          "base_uri": "https://localhost:8080/",
          "height": 1000
        },
        "id": "WZct_Zpv3chd",
        "outputId": "818798b0-b047-4d06-d47c-16ffde794c36"
      },
      "execution_count": 24,
      "outputs": [
        {
          "output_type": "display_data",
          "data": {
            "text/plain": [
              "<Figure size 720x432 with 1 Axes>"
            ],
            "image/png": "[encoded data removed]"
          },
          "metadata": {}
        },
        {
          "output_type": "display_data",
          "data": {
            "text/plain": [
              "<Figure size 720x432 with 1 Axes>"
            ],
            "image/png": "[encoded data removed]"
          },
          "metadata": {}
        },
        {
          "output_type": "display_data",
          "data": {
            "text/plain": [
              "<Figure size 720x432 with 1 Axes>"
            ],
            "image/png": "[encoded data removed]"
          },
          "metadata": {}
        }
      ]
    },
    {
      "cell_type": "code",
      "source": [
        "pickle.dump(random_final,open(\"last_model_RF\",\"wb\"))\n",
        "pickle.dump(Decision_T,open(\"last_model_Dt\",\"wb\"))\n",
        "pickle.dump(lasso_grid_model,open(\"last_model_Lasso\",\"wb\"))"
      ],
      "metadata": {
        "id": "kyGBKLqO5D7c"
      },
      "execution_count": 25,
      "outputs": []
    },
    {
      "cell_type": "code",
      "source": [],
      "metadata": {
        "id": "Pod4JwJA41iM"
      },
      "execution_count": null,
      "outputs": []
    }
  ]
}